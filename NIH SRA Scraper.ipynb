{
 "cells": [
  {
   "cell_type": "markdown",
   "id": "b671c73a",
   "metadata": {},
   "source": [
    "# NIH SRA Scraper\n"
   ]
  },
  {
   "cell_type": "markdown",
   "id": "447c6082",
   "metadata": {},
   "source": [
    "### Upload packages:"
   ]
  },
  {
   "cell_type": "code",
   "execution_count": null,
   "id": "b0e54376",
   "metadata": {},
   "outputs": [],
   "source": [
    "import os                        # Set working directory\n",
    "import pandas as pd              # Managing dataframes\n",
    "from bs4 import BeautifulSoup    # HTML parsing\n",
    "from datetime import date        # Extracting date for output version control\n",
    "\n",
    "from selenium import webdriver                           # Automating web browser interaction\n",
    "from selenium.webdriver.common.keys import Keys          # For send_keys() command\n",
    "from selenium.webdriver.common.by import By              # For find_element() command\n",
    "from selenium.webdriver.chrome.options import Options    # Option to make webdriver not visible\n"
   ]
  },
  {
   "cell_type": "markdown",
   "id": "005eb3e5",
   "metadata": {},
   "source": [
    "### Upload datasheet: "
   ]
  },
  {
   "cell_type": "code",
   "execution_count": 11,
   "id": "8d04279b",
   "metadata": {},
   "outputs": [
    {
     "data": {
      "text/html": [
       "<div>\n",
       "<style scoped>\n",
       "    .dataframe tbody tr th:only-of-type {\n",
       "        vertical-align: middle;\n",
       "    }\n",
       "\n",
       "    .dataframe tbody tr th {\n",
       "        vertical-align: top;\n",
       "    }\n",
       "\n",
       "    .dataframe thead th {\n",
       "        text-align: right;\n",
       "    }\n",
       "</style>\n",
       "<table border=\"1\" class=\"dataframe\">\n",
       "  <thead>\n",
       "    <tr style=\"text-align: right;\">\n",
       "      <th></th>\n",
       "      <th>Sample</th>\n",
       "      <th>Human alphaherpesvirus 1</th>\n",
       "    </tr>\n",
       "  </thead>\n",
       "  <tbody>\n",
       "    <tr>\n",
       "      <th>0</th>\n",
       "      <td>SRR15964039</td>\n",
       "      <td>19994</td>\n",
       "    </tr>\n",
       "    <tr>\n",
       "      <th>1</th>\n",
       "      <td>SRR15964015</td>\n",
       "      <td>12627</td>\n",
       "    </tr>\n",
       "    <tr>\n",
       "      <th>2</th>\n",
       "      <td>SRR15963969</td>\n",
       "      <td>9072</td>\n",
       "    </tr>\n",
       "    <tr>\n",
       "      <th>3</th>\n",
       "      <td>SRR15963991</td>\n",
       "      <td>8628</td>\n",
       "    </tr>\n",
       "    <tr>\n",
       "      <th>4</th>\n",
       "      <td>SRR15964037</td>\n",
       "      <td>7720</td>\n",
       "    </tr>\n",
       "  </tbody>\n",
       "</table>\n",
       "</div>"
      ],
      "text/plain": [
       "        Sample  Human alphaherpesvirus 1\n",
       "0  SRR15964039                     19994\n",
       "1  SRR15964015                     12627\n",
       "2  SRR15963969                      9072\n",
       "3  SRR15963991                      8628\n",
       "4  SRR15964037                      7720"
      ]
     },
     "execution_count": 11,
     "metadata": {},
     "output_type": "execute_result"
    }
   ],
   "source": [
    "# Set working directory\n",
    "os.chdir(r'C:\\Users\\')\n",
    "\n",
    "# Enter name of datasheet and sheet name with samples\n",
    "sra_samples = pd.read_excel('.xlsx', sheet_name = '')\n",
    "         \n",
    "# View datasheet\n",
    "sra_samples.head()\n"
   ]
  },
  {
   "cell_type": "markdown",
   "id": "80e67675",
   "metadata": {},
   "source": [
    "### Open webdriver:\n",
    "*Included an option so webdriver webpage is not visible while scraping"
   ]
  },
  {
   "cell_type": "code",
   "execution_count": 17,
   "id": "2e7b6fad",
   "metadata": {},
   "outputs": [],
   "source": [
    "# Open web page using Selenium webdriver \n",
    "driver = webdriver.Chrome()\n"
   ]
  },
  {
   "cell_type": "code",
   "execution_count": 12,
   "id": "ad66897b",
   "metadata": {},
   "outputs": [],
   "source": [
    "# OPTIONAL - webdriver will not be visible while scraping\n",
    "\n",
    "# Configure Chrome options - only use if you don't want webdriver visible\n",
    "chrome_options = Options()\n",
    "chrome_options.add_argument(\"--headless\")  # Run Chrome in headless mode\n",
    "chrome_options.add_argument(\"--disable-gpu\")  # Disable GPU acceleration\n",
    "\n",
    "# Create a new Chrome driver with the configured options\n",
    "driver = webdriver.Chrome(options=chrome_options)\n"
   ]
  },
  {
   "cell_type": "markdown",
   "id": "08bdd741",
   "metadata": {},
   "source": [
    "### Web Scraper:\n",
    "Webdriver opens NIH and searches for each SRA sample. After navigating to BioSample page, data from attributes table is added to a dataframe."
   ]
  },
  {
   "cell_type": "code",
   "execution_count": 19,
   "id": "9b1e8e2d",
   "metadata": {},
   "outputs": [
    {
     "data": {
      "text/html": [
       "<div>\n",
       "<style scoped>\n",
       "    .dataframe tbody tr th:only-of-type {\n",
       "        vertical-align: middle;\n",
       "    }\n",
       "\n",
       "    .dataframe tbody tr th {\n",
       "        vertical-align: top;\n",
       "    }\n",
       "\n",
       "    .dataframe thead th {\n",
       "        text-align: right;\n",
       "    }\n",
       "</style>\n",
       "<table border=\"1\" class=\"dataframe\">\n",
       "  <thead>\n",
       "    <tr style=\"text-align: right;\">\n",
       "      <th></th>\n",
       "      <th>Sample</th>\n",
       "      <th>Human alphaherpesvirus 1</th>\n",
       "      <th>source name</th>\n",
       "      <th>tissue</th>\n",
       "      <th>disease</th>\n",
       "      <th>sorted compartment</th>\n",
       "    </tr>\n",
       "  </thead>\n",
       "  <tbody>\n",
       "    <tr>\n",
       "      <th>0</th>\n",
       "      <td>SRR15964039</td>\n",
       "      <td>19994</td>\n",
       "      <td>Tumor assocaited CD4+ CD25+ Regulatory T cell ...</td>\n",
       "      <td>Skin</td>\n",
       "      <td>Melanoma</td>\n",
       "      <td>treg</td>\n",
       "    </tr>\n",
       "    <tr>\n",
       "      <th>1</th>\n",
       "      <td>SRR15964015</td>\n",
       "      <td>12627</td>\n",
       "      <td>CD45- CD90- CD44- Tumor cells sorted by flow c...</td>\n",
       "      <td>Skin</td>\n",
       "      <td>Melanoma</td>\n",
       "      <td>tumor</td>\n",
       "    </tr>\n",
       "    <tr>\n",
       "      <th>2</th>\n",
       "      <td>SRR15963969</td>\n",
       "      <td>9072</td>\n",
       "      <td>Tumor infiltrating viable cells sorted by flow...</td>\n",
       "      <td>Skin</td>\n",
       "      <td>Melanoma</td>\n",
       "      <td>live</td>\n",
       "    </tr>\n",
       "    <tr>\n",
       "      <th>3</th>\n",
       "      <td>SRR15963991</td>\n",
       "      <td>8628</td>\n",
       "      <td>CD45- CD90- CD44- Tumor cells sorted by flow c...</td>\n",
       "      <td>Skin</td>\n",
       "      <td>Melanoma</td>\n",
       "      <td>tumor</td>\n",
       "    </tr>\n",
       "    <tr>\n",
       "      <th>4</th>\n",
       "      <td>SRR15964037</td>\n",
       "      <td>7720</td>\n",
       "      <td>Tumor assocaited HLA DR+ CD3-CD1920-CD56- myel...</td>\n",
       "      <td>Skin</td>\n",
       "      <td>Melanoma</td>\n",
       "      <td>myeloid</td>\n",
       "    </tr>\n",
       "  </tbody>\n",
       "</table>\n",
       "</div>"
      ],
      "text/plain": [
       "        Sample  Human alphaherpesvirus 1  \\\n",
       "0  SRR15964039                     19994   \n",
       "1  SRR15964015                     12627   \n",
       "2  SRR15963969                      9072   \n",
       "3  SRR15963991                      8628   \n",
       "4  SRR15964037                      7720   \n",
       "\n",
       "                                         source name tissue   disease  \\\n",
       "0  Tumor assocaited CD4+ CD25+ Regulatory T cell ...   Skin  Melanoma   \n",
       "1  CD45- CD90- CD44- Tumor cells sorted by flow c...   Skin  Melanoma   \n",
       "2  Tumor infiltrating viable cells sorted by flow...   Skin  Melanoma   \n",
       "3  CD45- CD90- CD44- Tumor cells sorted by flow c...   Skin  Melanoma   \n",
       "4  Tumor assocaited HLA DR+ CD3-CD1920-CD56- myel...   Skin  Melanoma   \n",
       "\n",
       "  sorted compartment  \n",
       "0               treg  \n",
       "1              tumor  \n",
       "2               live  \n",
       "3              tumor  \n",
       "4            myeloid  "
      ]
     },
     "execution_count": 19,
     "metadata": {},
     "output_type": "execute_result"
    }
   ],
   "source": [
    "# Create empty dataframe\n",
    "df = pd.DataFrame()\n",
    "\n",
    "for index, row in sra_samples.iterrows():\n",
    "    \n",
    "    driver.get('https://www.ncbi.nlm.nih.gov/sra/')\n",
    "\n",
    "    # Enter sample ID into search bar\n",
    "    sample_search = driver.find_element(By.XPATH, '/html/body/div[1]/div[1]/form/div[1]/div[2]/div[2]/div/div/div/div/input')\n",
    "    sample_search.send_keys(str(row['Sample']))\n",
    "\n",
    "    # CLick search button\n",
    "    search_button = driver.find_element(By.XPATH, '/html/body/div[1]/div[1]/form/div[1]/div[2]/div[2]/div/div/button')\n",
    "    search_button.click()\n",
    "\n",
    "    # Click SAMN#\n",
    "    samn_link = driver.find_element(By.XPATH, '/html/body/div[1]/div[1]/form/div[1]/div[4]/div/div[5]/div/div[1]/div[3]/span/div/a[1]')\n",
    "    samn_link.click()\n",
    "\n",
    "    # Get HTML code\n",
    "    html = driver.page_source\n",
    "\n",
    "    # Create BeautifulSoup object\n",
    "    soup = BeautifulSoup(html, 'html.parser')\n",
    "\n",
    "    # Find table body\n",
    "    tbody = soup.find('tbody')\n",
    "\n",
    "    # Extract column names (<th>) and cell values (<td>)\n",
    "    column_names = [sra_samples.columns[0]] + [th.text for th in soup.find_all('th')]\n",
    "\n",
    "    # Extract data values (<td>)\n",
    "    dat = [str(row['Sample'])] + [td.text.strip() for td in soup.find_all('td')]\n",
    "    \n",
    "    # Create dataframe row\n",
    "    row = pd.DataFrame([dat], columns = column_names)\n",
    "    \n",
    "    # Concatenate the row to DataFrame \n",
    "    df = pd.concat([df, row], axis=0, ignore_index=True)\n",
    "    \n",
    "\n",
    "# Close webdriver\n",
    "driver.quit()\n",
    "\n",
    "# Merge NIH data with original data\n",
    "output = sra_samples.merge(df, how = 'left', on = 'Sample')\n",
    "\n",
    "# View data\n",
    "output.head()\n"
   ]
  },
  {
   "cell_type": "markdown",
   "id": "f3346525",
   "metadata": {},
   "source": [
    "### Export data"
   ]
  },
  {
   "cell_type": "code",
   "execution_count": 21,
   "id": "1927da72",
   "metadata": {},
   "outputs": [],
   "source": [
    "# Export data\n",
    "output.to_excel('PRJNA764510_KRAKEN_JR_' + str(date.today()) + '.xlsx', index = False)\n"
   ]
  },
  {
   "cell_type": "code",
   "execution_count": null,
   "id": "914df62c",
   "metadata": {},
   "outputs": [],
   "source": []
  }
 ],
 "metadata": {
  "kernelspec": {
   "display_name": "NIH.scrape",
   "language": "python",
   "name": "nih.scrape"
  },
  "language_info": {
   "codemirror_mode": {
    "name": "ipython",
    "version": 3
   },
   "file_extension": ".py",
   "mimetype": "text/x-python",
   "name": "python",
   "nbconvert_exporter": "python",
   "pygments_lexer": "ipython3",
   "version": "3.10.9"
  }
 },
 "nbformat": 4,
 "nbformat_minor": 5
}
